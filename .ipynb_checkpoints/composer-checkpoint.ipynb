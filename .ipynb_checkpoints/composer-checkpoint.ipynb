{
 "cells": [
  {
   "cell_type": "code",
   "execution_count": 1,
   "metadata": {},
   "outputs": [
    {
     "name": "stderr",
     "output_type": "stream",
     "text": [
      "Using TensorFlow backend.\n"
     ]
    }
   ],
   "source": [
    "from music21 import *\n",
    "\n",
    "from keras.models import Sequential\n",
    "from keras.layers import Dense, LSTM, Dropout, Activation\n",
    "from keras.callbacks import ModelCheckpoint, EarlyStopping\n",
    "\n",
    "from sklearn.model_selection import train_test_split\n",
    "from sklearn.preprocessing import MinMaxScaler\n",
    "\n",
    "import numpy as np\n",
    "import matplotlib.pyplot as plt\n",
    "import random\n",
    "import decimal\n",
    "\n",
    "from helpers import *"
   ]
  },
  {
   "cell_type": "code",
   "execution_count": 2,
   "metadata": {},
   "outputs": [
    {
     "name": "stdout",
     "output_type": "stream",
     "text": [
      "len(notes): 5970\n",
      "len(midi_notes): 5970\n",
      "[65, 67, 60, 65, 53, 57, 53, 57, 60, 65, 70, 69, 67, 65, 67, 69, 69, 65, 67, 69, 70, 72, 70, 69, 67, 67, 72, 72, 71, 69, 71, 72, 65, 65, 70, 69, 67, 65, 60, 65, 60, 60, 57, 53, 60, 60, 60, 57, 65, 67]\n"
     ]
    }
   ],
   "source": [
    "# get bach paths\n",
    "paths = corpus.getComposer('bach')\n",
    "#paths = corpus.getComposer('mozart')\n",
    "\n",
    "# get n pieces\n",
    "#paths = paths[:10]\n",
    "\n",
    "# get all the notes of the first part of each piece\n",
    "notes = []\n",
    "midi_notes = []\n",
    "\n",
    "# use only 2 songs\n",
    "paths = paths[:2]\n",
    "for path in paths:\n",
    "    # repeat the n songs m times to generate the training data\n",
    "    for _ in range(30):\n",
    "        compStream = converter.parse(path)\n",
    "        notes.extend(list(compStream.parts[0].recurse().notes))\n",
    "\n",
    "# convert to midi notes\n",
    "midi_notes = []\n",
    "for n in notes:\n",
    "    # handle chords -> get hightest pitch\n",
    "    if isinstance(n, chord.Chord):\n",
    "        midi_notes.append(n.pitches[-1].midi)\n",
    "    else:\n",
    "        midi_notes.append(n.pitch.midi)\n",
    "\n",
    "print(f'len(notes): {len(notes)}')\n",
    "print(f'len(midi_notes): {len(midi_notes)}')\n",
    "print(midi_notes[:50])\n",
    "\n",
    "# save a copy  of the original midi notes\n",
    "midi_notes_org = midi_notes[:]\n",
    "\n",
    "# write source melody to file\n",
    "s, fp = to_midi_file(midi_notes_org[:500], 'source.midi')"
   ]
  },
  {
   "cell_type": "code",
   "execution_count": 3,
   "metadata": {},
   "outputs": [
    {
     "name": "stdout",
     "output_type": "stream",
     "text": [
      "data:\n",
      "[[0.5       ]\n",
      " [0.58333333]\n",
      " [0.29166667]\n",
      " [0.5       ]]\n",
      "labels:\n",
      "[0.]\n"
     ]
    },
    {
     "name": "stderr",
     "output_type": "stream",
     "text": [
      "/Users/mbuehl/.local/share/virtualenvs/ml-music-composition-7FO5GL04/lib/python3.6/site-packages/sklearn/utils/validation.py:595: DataConversionWarning: Data with input dtype int64 was converted to float64 by MinMaxScaler.\n",
      "  warnings.warn(msg, DataConversionWarning)\n"
     ]
    }
   ],
   "source": [
    "# turn notes in to training sequences of n e.g. 4\n",
    "# map each sequence to note that follows\n",
    "# [65, 67, 60, 65] -> 53\n",
    "# [67, 60, 65, 53] -> 57\n",
    "\n",
    "# set the length of the sequence that predicts the next note\n",
    "seq_length = 4\n",
    "\n",
    "# scale data\n",
    "midi_notes = np.array(midi_notes_org).reshape(-1, 1)\n",
    "scaler = MinMaxScaler(feature_range=(0, 1))\n",
    "midi_notes = scaler.fit_transform(midi_notes)\n",
    "# print(f'scaled midi_notes:\\n{midi_notes}')\n",
    "\n",
    "data = []\n",
    "labels = []\n",
    "for i in range(len(midi_notes)):\n",
    "    seq_end = i + seq_length\n",
    "    \n",
    "    if seq_end >= len(midi_notes): break\n",
    "    \n",
    "    seq = midi_notes[i:seq_end]        \n",
    "    data.append(seq)\n",
    "    labels.append(midi_notes[seq_end])\n",
    "\n",
    "print(f'data:\\n{data[0]}')\n",
    "print(f'labels:\\n{labels[0]}')"
   ]
  },
  {
   "cell_type": "code",
   "execution_count": 4,
   "metadata": {},
   "outputs": [
    {
     "name": "stdout",
     "output_type": "stream",
     "text": [
      "data.shape: (5966, 4, 1)\n",
      "labels.shape: (5966, 1)\n",
      "min(data): [0.]\n",
      "max(data): [1.]\n",
      "min(labels): [0.]\n",
      "max(labels): [1.]\n"
     ]
    }
   ],
   "source": [
    "# get the data in shape\n",
    "data = np.array(data, dtype=float)\n",
    "data = data.reshape(-1, seq_length, 1)\n",
    "\n",
    "labels = np.array(labels, dtype=float)\n",
    "labels = labels.reshape(-1, 1)\n",
    "\n",
    "print(f'data.shape: {data.shape}')\n",
    "print(f'labels.shape: {labels.shape}')\n",
    "\n",
    "print(f'min(data): {min(data.reshape(-1, 1))}')\n",
    "print(f'max(data): {max(data.reshape(-1, 1))}')\n",
    "\n",
    "print(f'min(labels): {min(labels)}')\n",
    "print(f'max(labels): {max(labels)}')\n",
    "\n",
    "# print('{seq} -> {labels[i]}')\n",
    "# for i, seq in enumerate(data):\n",
    "#     print(f'{seq} -> {labels[i]}')\n",
    "    \n",
    "#     if i == 3: break\n"
   ]
  },
  {
   "cell_type": "code",
   "execution_count": 5,
   "metadata": {},
   "outputs": [],
   "source": [
    "# get test and train data\n",
    "\n",
    "x_train, x_test, y_train, y_test = train_test_split(data, labels, test_size=0.2, random_state=4)"
   ]
  },
  {
   "cell_type": "code",
   "execution_count": 6,
   "metadata": {},
   "outputs": [],
   "source": [
    "# build the model\n",
    "\n",
    "model = Sequential()\n",
    "model.add(LSTM((128), input_shape=(seq_length, 1), return_sequences=False))\n",
    "model.add(Dense(1))\n"
   ]
  },
  {
   "cell_type": "code",
   "execution_count": 7,
   "metadata": {
    "scrolled": false
   },
   "outputs": [
    {
     "name": "stdout",
     "output_type": "stream",
     "text": [
      "(None, 4, 1)\n",
      "(None, 1)\n",
      "_________________________________________________________________\n",
      "Layer (type)                 Output Shape              Param #   \n",
      "=================================================================\n",
      "lstm_1 (LSTM)                (None, 128)               66560     \n",
      "_________________________________________________________________\n",
      "dense_1 (Dense)              (None, 1)                 129       \n",
      "=================================================================\n",
      "Total params: 66,689\n",
      "Trainable params: 66,689\n",
      "Non-trainable params: 0\n",
      "_________________________________________________________________\n",
      "None\n"
     ]
    }
   ],
   "source": [
    "# compile the model\n",
    "\n",
    "model.compile(loss='mse', optimizer='adam')\n",
    "print(model.input_shape)\n",
    "print(model.output_shape)\n",
    "print(model.summary())"
   ]
  },
  {
   "cell_type": "code",
   "execution_count": 8,
   "metadata": {},
   "outputs": [],
   "source": [
    "# checkpoint\n",
    "# use early stopping\n",
    "\n",
    "filepath=\"weights-improvement-{epoch:02d}-{val_loss:.10f}.hdf5\"\n",
    "checkpoint = EarlyStopping(monitor='val_loss', mode='auto', patience=10, verbose=1, restore_best_weights=True )\n",
    "# checkpoint = ModelCheckpoint(filepath, monitor='val_loss', verbose=0, save_best_only=True, save_weights_only=False, mode='auto')\n",
    "\n",
    "callbacks_list = [checkpoint]"
   ]
  },
  {
   "cell_type": "code",
   "execution_count": 9,
   "metadata": {
    "scrolled": true
   },
   "outputs": [
    {
     "name": "stdout",
     "output_type": "stream",
     "text": [
      "Restoring model weights from the end of the best epoch\n",
      "Epoch 00142: early stopping\n"
     ]
    }
   ],
   "source": [
    "# fit the model\n",
    "\n",
    "history = model.fit(x_train, y_train, verbose=0, epochs=1000, batch_size=64, validation_data=(x_test, y_test), callbacks=callbacks_list)"
   ]
  },
  {
   "cell_type": "code",
   "execution_count": 10,
   "metadata": {
    "scrolled": true
   },
   "outputs": [
    {
     "name": "stdout",
     "output_type": "stream",
     "text": [
      "1194/1194 [==============================] - 0s 24us/step\n",
      "score: 0.00884881588182657\n"
     ]
    }
   ],
   "source": [
    "# get the score\n",
    "\n",
    "score = model.evaluate(x_test, y_test, batch_size=64)\n",
    "print(f'score: {score}')"
   ]
  },
  {
   "cell_type": "code",
   "execution_count": 11,
   "metadata": {},
   "outputs": [],
   "source": [
    "# save model\n",
    "#model.save('model.h5')"
   ]
  },
  {
   "cell_type": "code",
   "execution_count": 12,
   "metadata": {},
   "outputs": [
    {
     "data": {
      "text/plain": [
       "<matplotlib.legend.Legend at 0x1388f9ac8>"
      ]
     },
     "execution_count": 12,
     "metadata": {},
     "output_type": "execute_result"
    },
    {
     "data": {
      "image/png": "[encoded data removed]",
      "text/plain": [
       "<Figure size 432x288 with 1 Axes>"
      ]
     },
     "metadata": {
      "image/png": {
       "height": 250,
       "width": 380
      },
      "needs_background": "light"
     },
     "output_type": "display_data"
    }
   ],
   "source": [
    "# predict y_train\n",
    "n=20\n",
    "\n",
    "results= model.predict(x_train)\n",
    "plt.scatter(range(n), results[:n], c='b')\n",
    "plt.scatter(range(n), y_train[:n], c='g')\n",
    "plt.legend(['results', 'Y-train'], loc='upper right')"
   ]
  },
  {
   "cell_type": "code",
   "execution_count": 13,
   "metadata": {},
   "outputs": [
    {
     "data": {
      "text/plain": [
       "<matplotlib.legend.Legend at 0x1389df0f0>"
      ]
     },
     "execution_count": 13,
     "metadata": {},
     "output_type": "execute_result"
    },
    {
     "data": {
      "image/png": "[encoded data removed]",
      "text/plain": [
       "<Figure size 432x288 with 1 Axes>"
      ]
     },
     "metadata": {
      "image/png": {
       "height": 250,
       "width": 380
      },
      "needs_background": "light"
     },
     "output_type": "display_data"
    }
   ],
   "source": [
    "# predict y_test\n",
    "\n",
    "results= model.predict(x_test)\n",
    "plt.scatter(range(n), results[:n], c='b')\n",
    "plt.scatter(range(n), y_test[:n], c='g')\n",
    "plt.legend(['results', 'Y-test'], loc='upper right')"
   ]
  },
  {
   "cell_type": "code",
   "execution_count": 14,
   "metadata": {},
   "outputs": [
    {
     "data": {
      "image/png": "[encoded data removed]",
      "text/plain": [
       "<Figure size 432x288 with 1 Axes>"
      ]
     },
     "metadata": {
      "image/png": {
       "height": 263,
       "width": 380
      },
      "needs_background": "light"
     },
     "output_type": "display_data"
    }
   ],
   "source": [
    "plt.plot(history.history['loss'])\n",
    "plt.plot(history.history['val_loss'])\n",
    "plt.xlabel('epoch')\n",
    "plt.legend(['train', 'validation'], loc='upper right')\n",
    "plt.show()"
   ]
  },
  {
   "cell_type": "code",
   "execution_count": 15,
   "metadata": {},
   "outputs": [],
   "source": [
    "# load best weights\n",
    "\n",
    "# model.load_weights('weights-improvement-57-0.0000455168.hdf5')\n",
    "\n",
    "# score = model.evaluate(x_test, y_test, batch_size=64)\n",
    "# print(score)"
   ]
  },
  {
   "cell_type": "code",
   "execution_count": 16,
   "metadata": {},
   "outputs": [
    {
     "name": "stdout",
     "output_type": "stream",
     "text": [
      "min_note: [0.]\n",
      "max_note: [1.]\n",
      "start_index: 3524\n",
      "cur_seq.shape: (1, 4, 1)\n",
      "melody.shape: (1, 4, 1)\n"
     ]
    }
   ],
   "source": [
    "# create original melody\n",
    "\n",
    "max_note = max(midi_notes)\n",
    "min_note = min(midi_notes)\n",
    "print(f'min_note: {min_note}')\n",
    "print(f'max_note: {max_note}')\n",
    "\n",
    "# get sequence to start things off\n",
    "start_index = random.randrange(0, midi_notes.shape[0] - seq_length)\n",
    "print(f'start_index: {start_index}')\n",
    "seed_seq = midi_notes[start_index:start_index + seq_length]\n",
    "\n",
    "# set start sequence manually\n",
    "seed_seq = scaler.transform(np.array([60,67,65,64]).reshape(seq_length, 1))\n",
    "seed_seq = scaler.transform(np.array(midi_notes_org[:seq_length]).reshape(seq_length, 1))\n",
    "\n",
    "# holds sequence for next prediction\n",
    "cur_seq = seed_seq.copy()\n",
    "cur_seq = cur_seq.reshape(1, seq_length, 1)\n",
    "print(f'cur_seq.shape: {cur_seq.shape}')\n",
    "\n",
    "# melody starts with our start sequence seed_seq\n",
    "melody = cur_seq.copy()\n",
    "print(f'melody.shape: {melody.shape}')\n",
    "\n",
    "# melody is 500 notes long\n",
    "melody_length = 500\n",
    "\n",
    "# cur_seq moves along with the end of the melody to determine the next note\n",
    "for _ in range(melody_length):\n",
    "#     print(f'cur_seq: {cur_seq}')\n",
    "    next_note = model.predict(cur_seq)\n",
    "#     print(f'next_note: {next_note}')\n",
    "    melody = np.append(melody, next_note)\n",
    "#     print(f'melody: {melody}')\n",
    "    cur_seq = np.append(cur_seq[0][1:], next_note).reshape(1, seq_length, 1)\n",
    "    \n",
    "\n",
    "#print(f'melody: {melody}')\n",
    "\n"
   ]
  },
  {
   "cell_type": "code",
   "execution_count": 17,
   "metadata": {},
   "outputs": [
    {
     "data": {
      "text/plain": [
       "array([[68.709656]], dtype=float32)"
      ]
     },
     "execution_count": 17,
     "metadata": {},
     "output_type": "execute_result"
    }
   ],
   "source": [
    "a = np.array([[[0.425],\n",
    "        [0.25 ],\n",
    "        [0.375],\n",
    "        [0.385]]])\n",
    "a = scaler.transform(np.array([75,75,75,60]).reshape(seq_length, 1))\n",
    "b = model.predict(a.reshape(1, seq_length, 1))\n",
    "scaler.inverse_transform(b)"
   ]
  },
  {
   "cell_type": "code",
   "execution_count": 18,
   "metadata": {},
   "outputs": [
    {
     "name": "stdout",
     "output_type": "stream",
     "text": [
      "['F', 'G', 'C', 'F', 'F#', 'B-', 'F#', 'A', 'D', 'D', 'G#', 'C#', 'F#', 'E', 'G', 'F#', 'E', 'E', 'E', 'B', 'A', 'C#', 'E-', 'B', 'E', 'F', 'C#', 'G', 'G', 'E', 'G', 'C', 'F', 'C#', 'E', 'G#', 'G#', 'D', 'G', 'E', 'D', 'D', 'C', 'G', 'B-', 'E-', 'E', 'B', 'E-', 'A', 'F', 'F', 'E-', 'E', 'A', 'A', 'C#', 'F#', 'E', 'G#', 'G#', 'D', 'F#', 'F', 'E', 'E-', 'D', 'G#', 'F#', 'C#', 'G#', 'G#', 'G', 'C#', 'E', 'C', 'B-', 'G', 'E', 'E', 'A', 'C', 'F', 'G', 'A', 'F#', 'G#', 'F', 'G#', 'F#', 'G', 'F#', 'G#', 'G#', 'A', 'B-', 'A', 'A', 'G', 'G', 'G', 'G#', 'A', 'B-', 'B-', 'A', 'G#', 'F#', 'F#', 'G', 'G#', 'G#', 'G#', 'A', 'A', 'A', 'A', 'G#', 'G', 'G', 'G', 'A', 'B-', 'B', 'B-', 'G#', 'F#', 'F', 'F#', 'G', 'F#', 'F', 'F#', 'G', 'F#', 'F#', 'F#', 'G', 'G', 'F#', 'G#', 'A', 'B-', 'B-', 'A', 'G', 'F#', 'F#', 'G', 'G#', 'G', 'G', 'A', 'B-', 'B-', 'B-', 'A', 'G', 'F#', 'F#', 'G', 'G#', 'G', 'G#', 'A', 'B-', 'B-', 'B-', 'G#', 'F#', 'F#', 'F#', 'G', 'G', 'G', 'G#', 'B-', 'B-', 'B-', 'A', 'G', 'F#', 'F#', 'F#', 'G', 'F#', 'F#', 'G#', 'A', 'A', 'A', 'A', 'G#', 'G#', 'G#', 'G#', 'G#', 'A', 'B-', 'B-', 'A', 'G#', 'G', 'F#', 'G', 'A', 'B-', 'B-', 'B-', 'G#', 'F#', 'F#', 'F#', 'G#', 'G', 'G', 'G#', 'A', 'B-', 'B-', 'A', 'G', 'F#', 'F#', 'G', 'G#', 'G', 'G', 'A', 'B-', 'B-', 'B-', 'G#', 'G', 'F#', 'F#', 'G', 'G#', 'G#', 'A', 'A', 'A', 'A', 'G#', 'G#', 'G', 'G#', 'A', 'B-', 'B-', 'B-', 'G#', 'G', 'F#', 'F#', 'G#', 'A', 'A', 'A', 'A', 'G#', 'G#', 'G', 'G', 'G#', 'A', 'B-', 'B-', 'A', 'G', 'F#', 'F#', 'G', 'G#', 'G#', 'G#', 'A', 'A', 'A', 'A', 'G#', 'G', 'G', 'G#', 'A', 'B-', 'B', 'B-', 'G#', 'F#', 'F', 'F#', 'G', 'F#', 'F#', 'G', 'G#', 'G#', 'G#', 'A', 'A', 'B-', 'B-', 'A', 'G', 'F#', 'F#', 'G#', 'A', 'B-', 'B-', 'A', 'G', 'F#', 'F#', 'G', 'A', 'A', 'A', 'A', 'A', 'G#', 'G', 'G', 'G', 'A', 'B-', 'B-', 'B-', 'G#', 'F#', 'F#', 'F#', 'G', 'G', 'F#', 'G', 'A', 'B-', 'B-', 'B-', 'G#', 'F#', 'F#', 'F#', 'G', 'F#', 'F#', 'G', 'A', 'B-', 'A', 'A', 'G#', 'G', 'G', 'G', 'A', 'B-', 'B-', 'B-', 'G#', 'F#', 'F#', 'F#', 'G', 'G', 'G', 'G', 'A', 'B-', 'B', 'B-', 'G#', 'F#', 'F', 'F#', 'G', 'F#', 'F#', 'F#', 'G', 'F#', 'F#', 'G#', 'A', 'A', 'A', 'A', 'G#', 'G', 'G', 'G#', 'A', 'B-', 'B-', 'B-', 'G#', 'F#', 'F#', 'F#', 'G', 'F#', 'F#', 'G', 'A', 'A', 'A', 'A', 'G#', 'G', 'G', 'G', 'A', 'B-', 'B', 'B-', 'G#', 'F#', 'F', 'F#', 'G', 'F#', 'F', 'F#', 'F#', 'F', 'F', 'F', 'E', 'C', 'A', 'E-', 'D', 'G', 'B', 'B', 'F', 'B-', 'C', 'G#', 'F#', 'F#', 'F#', 'G#', 'G#', 'G#', 'G#', 'A', 'B-', 'A', 'G#', 'G', 'G', 'G', 'G#', 'B-', 'B-', 'B-', 'A', 'G', 'F#', 'F#', 'G', 'G#', 'G', 'G', 'G#', 'B-', 'B-', 'B-', 'A', 'G', 'F#', 'F#', 'G', 'G', 'F#', 'F#', 'G#', 'G#', 'G#', 'G#', 'A', 'A', 'A', 'A', 'G#', 'G', 'G', 'G#', 'A', 'B-', 'B-', 'A', 'G', 'F#', 'F#', 'G', 'G', 'G', 'G', 'G#', 'B-']\n"
     ]
    }
   ],
   "source": [
    "# turn melody into a midi file\n",
    "\n",
    "# print(melody[0])\n",
    "# print(f'melody.shape: {melody.shape}')\n",
    "\n",
    "# denormalize\n",
    "melody_denorm = scaler.inverse_transform(melody.reshape(-1, 1)).flatten()\n",
    "#print(melody_denorm)\n",
    "# print(melody_denorm[0])\n",
    "\n",
    "#melody_denorm = [int(round(n)) for n in melody_denorm ]\n",
    "#print(melody_denorm)\n",
    "\n",
    "# write new melody to file\n",
    "s, fp = to_midi_file(melody_denorm, 'machine_bach.midi')\n",
    "#s.show('text')\n",
    "note_letters = [n.pitch.name for n in s.notes]\n",
    "print(note_letters)\n"
   ]
  }
 ],
 "metadata": {
  "kernelspec": {
   "display_name": "Python 3",
   "language": "python",
   "name": "python3"
  },
  "language_info": {
   "codemirror_mode": {
    "name": "ipython",
    "version": 3
   },
   "file_extension": ".py",
   "mimetype": "text/x-python",
   "name": "python",
   "nbconvert_exporter": "python",
   "pygments_lexer": "ipython3",
   "version": "3.6.7"
  }
 },
 "nbformat": 4,
 "nbformat_minor": 2
}
