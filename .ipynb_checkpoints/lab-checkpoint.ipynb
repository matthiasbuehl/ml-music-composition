{
 "cells": [
  {
   "cell_type": "code",
   "execution_count": 280,
   "metadata": {},
   "outputs": [],
   "source": [
    "from keras.models import Sequential\n",
    "from keras.layers import Dense\n",
    "from keras.layers import LSTM\n",
    "from sklearn.model_selection import train_test_split\n",
    "\n",
    "import numpy as np\n",
    "import matplotlib.pyplot as plt\n",
    "import pprint as pp\n",
    "\n",
    "#pp = pprint.PrettyPrinter(indent=2)"
   ]
  },
  {
   "cell_type": "code",
   "execution_count": 281,
   "metadata": {},
   "outputs": [
    {
     "name": "stdout",
     "output_type": "stream",
     "text": [
      "(100, 5, 1)\n",
      "(100,)\n"
     ]
    }
   ],
   "source": [
    "\n",
    "data = [[[(i+j) / 100] for i in range(5)] for j in range(100)]\n",
    "data = np.array(data, dtype=float)\n",
    "\n",
    "labels = [(i+5) / 100 for i in range(100)]\n",
    "labels = np.array(labels, dtype=float)\n",
    "\n",
    "print(data.shape)\n",
    "print(labels.shape)\n"
   ]
  },
  {
   "cell_type": "code",
   "execution_count": 282,
   "metadata": {},
   "outputs": [],
   "source": [
    "x_train, x_test, y_train, y_test = train_test_split(data, labels, test_size=0.2, random_state=4)"
   ]
  },
  {
   "cell_type": "code",
   "execution_count": 283,
   "metadata": {},
   "outputs": [],
   "source": [
    "model = Sequential()\n",
    "model.add(LSTM((1), batch_input_shape=(None, 5, 1), activation='relu', return_sequences=False))\n",
    "#model.add(LSTM((1), return_sequences=False))\n",
    "#model.add(Dense(1, activation='sigmoid'))\n"
   ]
  },
  {
   "cell_type": "code",
   "execution_count": 284,
   "metadata": {},
   "outputs": [],
   "source": [
    "model.compile(loss='mse', optimizer='adam', metrics=['accuracy'])"
   ]
  },
  {
   "cell_type": "code",
   "execution_count": 285,
   "metadata": {},
   "outputs": [
    {
     "name": "stdout",
     "output_type": "stream",
     "text": [
      "Train on 80 samples, validate on 20 samples\n",
      "Epoch 1/100\n",
      "80/80 [==============================] - 3s 39ms/step - loss: 0.4035 - acc: 0.0000e+00 - val_loss: 0.2877 - val_acc: 0.0000e+00\n",
      "Epoch 2/100\n",
      "80/80 [==============================] - 0s 318us/step - loss: 0.4035 - acc: 0.0000e+00 - val_loss: 0.2877 - val_acc: 0.0000e+00\n",
      "Epoch 3/100\n",
      "80/80 [==============================] - 0s 298us/step - loss: 0.4035 - acc: 0.0000e+00 - val_loss: 0.2877 - val_acc: 0.0000e+00\n",
      "Epoch 4/100\n",
      "80/80 [==============================] - 0s 303us/step - loss: 0.4035 - acc: 0.0000e+00 - val_loss: 0.2877 - val_acc: 0.0000e+00\n",
      "Epoch 5/100\n",
      "80/80 [==============================] - 0s 295us/step - loss: 0.4035 - acc: 0.0000e+00 - val_loss: 0.2877 - val_acc: 0.0000e+00\n",
      "Epoch 6/100\n",
      "80/80 [==============================] - 0s 314us/step - loss: 0.4035 - acc: 0.0000e+00 - val_loss: 0.2877 - val_acc: 0.0000e+00\n",
      "Epoch 7/100\n",
      "80/80 [==============================] - 0s 299us/step - loss: 0.4035 - acc: 0.0000e+00 - val_loss: 0.2877 - val_acc: 0.0000e+00\n",
      "Epoch 8/100\n",
      "80/80 [==============================] - 0s 310us/step - loss: 0.4035 - acc: 0.0000e+00 - val_loss: 0.2877 - val_acc: 0.0000e+00\n",
      "Epoch 9/100\n",
      "80/80 [==============================] - 0s 304us/step - loss: 0.4035 - acc: 0.0000e+00 - val_loss: 0.2877 - val_acc: 0.0000e+00\n",
      "Epoch 10/100\n",
      "80/80 [==============================] - 0s 294us/step - loss: 0.4035 - acc: 0.0000e+00 - val_loss: 0.2877 - val_acc: 0.0000e+00\n",
      "Epoch 11/100\n",
      "80/80 [==============================] - 0s 300us/step - loss: 0.4035 - acc: 0.0000e+00 - val_loss: 0.2877 - val_acc: 0.0000e+00\n",
      "Epoch 12/100\n",
      "80/80 [==============================] - 0s 300us/step - loss: 0.4035 - acc: 0.0000e+00 - val_loss: 0.2877 - val_acc: 0.0000e+00\n",
      "Epoch 13/100\n",
      "80/80 [==============================] - 0s 294us/step - loss: 0.4035 - acc: 0.0000e+00 - val_loss: 0.2877 - val_acc: 0.0000e+00\n",
      "Epoch 14/100\n",
      "80/80 [==============================] - 0s 308us/step - loss: 0.4035 - acc: 0.0000e+00 - val_loss: 0.2877 - val_acc: 0.0000e+00\n",
      "Epoch 15/100\n",
      "80/80 [==============================] - 0s 286us/step - loss: 0.4035 - acc: 0.0000e+00 - val_loss: 0.2877 - val_acc: 0.0000e+00\n",
      "Epoch 16/100\n",
      "80/80 [==============================] - 0s 310us/step - loss: 0.4035 - acc: 0.0000e+00 - val_loss: 0.2877 - val_acc: 0.0000e+00\n",
      "Epoch 17/100\n",
      "80/80 [==============================] - 0s 315us/step - loss: 0.4035 - acc: 0.0000e+00 - val_loss: 0.2877 - val_acc: 0.0000e+00\n",
      "Epoch 18/100\n",
      "80/80 [==============================] - 0s 293us/step - loss: 0.4035 - acc: 0.0000e+00 - val_loss: 0.2877 - val_acc: 0.0000e+00\n",
      "Epoch 19/100\n",
      "80/80 [==============================] - 0s 303us/step - loss: 0.4035 - acc: 0.0000e+00 - val_loss: 0.2877 - val_acc: 0.0000e+00\n",
      "Epoch 20/100\n",
      "80/80 [==============================] - 0s 294us/step - loss: 0.4035 - acc: 0.0000e+00 - val_loss: 0.2877 - val_acc: 0.0000e+00\n",
      "Epoch 21/100\n",
      "80/80 [==============================] - 0s 311us/step - loss: 0.4035 - acc: 0.0000e+00 - val_loss: 0.2877 - val_acc: 0.0000e+00\n",
      "Epoch 22/100\n",
      "80/80 [==============================] - 0s 300us/step - loss: 0.4035 - acc: 0.0000e+00 - val_loss: 0.2877 - val_acc: 0.0000e+00\n",
      "Epoch 23/100\n",
      "80/80 [==============================] - 0s 298us/step - loss: 0.4035 - acc: 0.0000e+00 - val_loss: 0.2877 - val_acc: 0.0000e+00\n",
      "Epoch 24/100\n",
      "80/80 [==============================] - 0s 300us/step - loss: 0.4035 - acc: 0.0000e+00 - val_loss: 0.2877 - val_acc: 0.0000e+00\n",
      "Epoch 25/100\n",
      "80/80 [==============================] - 0s 302us/step - loss: 0.4035 - acc: 0.0000e+00 - val_loss: 0.2877 - val_acc: 0.0000e+00\n",
      "Epoch 26/100\n",
      "80/80 [==============================] - 0s 290us/step - loss: 0.4035 - acc: 0.0000e+00 - val_loss: 0.2877 - val_acc: 0.0000e+00\n",
      "Epoch 27/100\n",
      "80/80 [==============================] - 0s 303us/step - loss: 0.4035 - acc: 0.0000e+00 - val_loss: 0.2877 - val_acc: 0.0000e+00\n",
      "Epoch 28/100\n",
      "80/80 [==============================] - 0s 300us/step - loss: 0.4035 - acc: 0.0000e+00 - val_loss: 0.2877 - val_acc: 0.0000e+00\n",
      "Epoch 29/100\n",
      "80/80 [==============================] - 0s 307us/step - loss: 0.4035 - acc: 0.0000e+00 - val_loss: 0.2877 - val_acc: 0.0000e+00\n",
      "Epoch 30/100\n",
      "80/80 [==============================] - 0s 301us/step - loss: 0.4035 - acc: 0.0000e+00 - val_loss: 0.2877 - val_acc: 0.0000e+00\n",
      "Epoch 31/100\n",
      "80/80 [==============================] - 0s 313us/step - loss: 0.4035 - acc: 0.0000e+00 - val_loss: 0.2877 - val_acc: 0.0000e+00\n",
      "Epoch 32/100\n",
      "80/80 [==============================] - 0s 296us/step - loss: 0.4035 - acc: 0.0000e+00 - val_loss: 0.2877 - val_acc: 0.0000e+00\n",
      "Epoch 33/100\n",
      "80/80 [==============================] - 0s 297us/step - loss: 0.4035 - acc: 0.0000e+00 - val_loss: 0.2877 - val_acc: 0.0000e+00\n",
      "Epoch 34/100\n",
      "80/80 [==============================] - 0s 300us/step - loss: 0.4035 - acc: 0.0000e+00 - val_loss: 0.2877 - val_acc: 0.0000e+00\n",
      "Epoch 35/100\n",
      "80/80 [==============================] - 0s 292us/step - loss: 0.4035 - acc: 0.0000e+00 - val_loss: 0.2877 - val_acc: 0.0000e+00\n",
      "Epoch 36/100\n",
      "80/80 [==============================] - 0s 277us/step - loss: 0.4035 - acc: 0.0000e+00 - val_loss: 0.2877 - val_acc: 0.0000e+00\n",
      "Epoch 37/100\n",
      "80/80 [==============================] - 0s 248us/step - loss: 0.4035 - acc: 0.0000e+00 - val_loss: 0.2877 - val_acc: 0.0000e+00\n",
      "Epoch 38/100\n",
      "80/80 [==============================] - 0s 255us/step - loss: 0.4035 - acc: 0.0000e+00 - val_loss: 0.2877 - val_acc: 0.0000e+00\n",
      "Epoch 39/100\n",
      "80/80 [==============================] - 0s 249us/step - loss: 0.4035 - acc: 0.0000e+00 - val_loss: 0.2877 - val_acc: 0.0000e+00\n",
      "Epoch 40/100\n",
      "80/80 [==============================] - 0s 239us/step - loss: 0.4035 - acc: 0.0000e+00 - val_loss: 0.2877 - val_acc: 0.0000e+00\n",
      "Epoch 41/100\n",
      "80/80 [==============================] - 0s 249us/step - loss: 0.4035 - acc: 0.0000e+00 - val_loss: 0.2877 - val_acc: 0.0000e+00\n",
      "Epoch 42/100\n",
      "80/80 [==============================] - 0s 249us/step - loss: 0.4035 - acc: 0.0000e+00 - val_loss: 0.2877 - val_acc: 0.0000e+00\n",
      "Epoch 43/100\n",
      "80/80 [==============================] - 0s 258us/step - loss: 0.4035 - acc: 0.0000e+00 - val_loss: 0.2877 - val_acc: 0.0000e+00\n",
      "Epoch 44/100\n",
      "80/80 [==============================] - 0s 269us/step - loss: 0.4035 - acc: 0.0000e+00 - val_loss: 0.2877 - val_acc: 0.0000e+00\n",
      "Epoch 45/100\n",
      "80/80 [==============================] - 0s 253us/step - loss: 0.4035 - acc: 0.0000e+00 - val_loss: 0.2877 - val_acc: 0.0000e+00\n",
      "Epoch 46/100\n",
      "80/80 [==============================] - 0s 241us/step - loss: 0.4035 - acc: 0.0000e+00 - val_loss: 0.2877 - val_acc: 0.0000e+00\n",
      "Epoch 47/100\n",
      "80/80 [==============================] - 0s 244us/step - loss: 0.4035 - acc: 0.0000e+00 - val_loss: 0.2877 - val_acc: 0.0000e+00\n",
      "Epoch 48/100\n",
      "80/80 [==============================] - 0s 257us/step - loss: 0.4035 - acc: 0.0000e+00 - val_loss: 0.2877 - val_acc: 0.0000e+00\n",
      "Epoch 49/100\n",
      "80/80 [==============================] - 0s 231us/step - loss: 0.4035 - acc: 0.0000e+00 - val_loss: 0.2877 - val_acc: 0.0000e+00\n",
      "Epoch 50/100\n",
      "80/80 [==============================] - 0s 224us/step - loss: 0.4035 - acc: 0.0000e+00 - val_loss: 0.2877 - val_acc: 0.0000e+00\n",
      "Epoch 51/100\n",
      "80/80 [==============================] - 0s 243us/step - loss: 0.4035 - acc: 0.0000e+00 - val_loss: 0.2877 - val_acc: 0.0000e+00\n",
      "Epoch 52/100\n",
      "80/80 [==============================] - 0s 231us/step - loss: 0.4035 - acc: 0.0000e+00 - val_loss: 0.2877 - val_acc: 0.0000e+00\n",
      "Epoch 53/100\n",
      "80/80 [==============================] - 0s 244us/step - loss: 0.4035 - acc: 0.0000e+00 - val_loss: 0.2877 - val_acc: 0.0000e+00\n",
      "Epoch 54/100\n",
      "80/80 [==============================] - 0s 258us/step - loss: 0.4035 - acc: 0.0000e+00 - val_loss: 0.2877 - val_acc: 0.0000e+00\n",
      "Epoch 55/100\n",
      "80/80 [==============================] - 0s 255us/step - loss: 0.4035 - acc: 0.0000e+00 - val_loss: 0.2877 - val_acc: 0.0000e+00\n",
      "Epoch 56/100\n",
      "80/80 [==============================] - 0s 279us/step - loss: 0.4035 - acc: 0.0000e+00 - val_loss: 0.2877 - val_acc: 0.0000e+00\n",
      "Epoch 57/100\n",
      "80/80 [==============================] - 0s 279us/step - loss: 0.4035 - acc: 0.0000e+00 - val_loss: 0.2877 - val_acc: 0.0000e+00\n",
      "Epoch 58/100\n"
     ]
    },
    {
     "name": "stdout",
     "output_type": "stream",
     "text": [
      "80/80 [==============================] - 0s 273us/step - loss: 0.4035 - acc: 0.0000e+00 - val_loss: 0.2877 - val_acc: 0.0000e+00\n",
      "Epoch 59/100\n",
      "80/80 [==============================] - 0s 316us/step - loss: 0.4035 - acc: 0.0000e+00 - val_loss: 0.2877 - val_acc: 0.0000e+00\n",
      "Epoch 60/100\n",
      "80/80 [==============================] - 0s 292us/step - loss: 0.4035 - acc: 0.0000e+00 - val_loss: 0.2877 - val_acc: 0.0000e+00\n",
      "Epoch 61/100\n",
      "80/80 [==============================] - 0s 297us/step - loss: 0.4035 - acc: 0.0000e+00 - val_loss: 0.2877 - val_acc: 0.0000e+00\n",
      "Epoch 62/100\n",
      "80/80 [==============================] - 0s 294us/step - loss: 0.4035 - acc: 0.0000e+00 - val_loss: 0.2877 - val_acc: 0.0000e+00\n",
      "Epoch 63/100\n",
      "80/80 [==============================] - 0s 310us/step - loss: 0.4035 - acc: 0.0000e+00 - val_loss: 0.2877 - val_acc: 0.0000e+00\n",
      "Epoch 64/100\n",
      "80/80 [==============================] - 0s 287us/step - loss: 0.4035 - acc: 0.0000e+00 - val_loss: 0.2877 - val_acc: 0.0000e+00\n",
      "Epoch 65/100\n",
      "80/80 [==============================] - 0s 326us/step - loss: 0.4035 - acc: 0.0000e+00 - val_loss: 0.2877 - val_acc: 0.0000e+00\n",
      "Epoch 66/100\n",
      "80/80 [==============================] - 0s 321us/step - loss: 0.4035 - acc: 0.0000e+00 - val_loss: 0.2877 - val_acc: 0.0000e+00\n",
      "Epoch 67/100\n",
      "80/80 [==============================] - 0s 330us/step - loss: 0.4035 - acc: 0.0000e+00 - val_loss: 0.2877 - val_acc: 0.0000e+00\n",
      "Epoch 68/100\n",
      "80/80 [==============================] - 0s 292us/step - loss: 0.4035 - acc: 0.0000e+00 - val_loss: 0.2877 - val_acc: 0.0000e+00\n",
      "Epoch 69/100\n",
      "80/80 [==============================] - 0s 299us/step - loss: 0.4035 - acc: 0.0000e+00 - val_loss: 0.2877 - val_acc: 0.0000e+00\n",
      "Epoch 70/100\n",
      "80/80 [==============================] - 0s 303us/step - loss: 0.4035 - acc: 0.0000e+00 - val_loss: 0.2877 - val_acc: 0.0000e+00\n",
      "Epoch 71/100\n",
      "80/80 [==============================] - 0s 312us/step - loss: 0.4035 - acc: 0.0000e+00 - val_loss: 0.2877 - val_acc: 0.0000e+00\n",
      "Epoch 72/100\n",
      "80/80 [==============================] - 0s 300us/step - loss: 0.4035 - acc: 0.0000e+00 - val_loss: 0.2877 - val_acc: 0.0000e+00\n",
      "Epoch 73/100\n",
      "80/80 [==============================] - 0s 290us/step - loss: 0.4035 - acc: 0.0000e+00 - val_loss: 0.2877 - val_acc: 0.0000e+00\n",
      "Epoch 74/100\n",
      "80/80 [==============================] - 0s 253us/step - loss: 0.4035 - acc: 0.0000e+00 - val_loss: 0.2877 - val_acc: 0.0000e+00\n",
      "Epoch 75/100\n",
      "80/80 [==============================] - 0s 279us/step - loss: 0.4035 - acc: 0.0000e+00 - val_loss: 0.2877 - val_acc: 0.0000e+00\n",
      "Epoch 76/100\n",
      "80/80 [==============================] - 0s 271us/step - loss: 0.4035 - acc: 0.0000e+00 - val_loss: 0.2877 - val_acc: 0.0000e+00\n",
      "Epoch 77/100\n",
      "80/80 [==============================] - 0s 266us/step - loss: 0.4035 - acc: 0.0000e+00 - val_loss: 0.2877 - val_acc: 0.0000e+00\n",
      "Epoch 78/100\n",
      "80/80 [==============================] - 0s 253us/step - loss: 0.4035 - acc: 0.0000e+00 - val_loss: 0.2877 - val_acc: 0.0000e+00\n",
      "Epoch 79/100\n",
      "80/80 [==============================] - 0s 257us/step - loss: 0.4035 - acc: 0.0000e+00 - val_loss: 0.2877 - val_acc: 0.0000e+00\n",
      "Epoch 80/100\n",
      "80/80 [==============================] - 0s 270us/step - loss: 0.4035 - acc: 0.0000e+00 - val_loss: 0.2877 - val_acc: 0.0000e+00\n",
      "Epoch 81/100\n",
      "80/80 [==============================] - 0s 268us/step - loss: 0.4035 - acc: 0.0000e+00 - val_loss: 0.2877 - val_acc: 0.0000e+00\n",
      "Epoch 82/100\n",
      "80/80 [==============================] - 0s 275us/step - loss: 0.4035 - acc: 0.0000e+00 - val_loss: 0.2877 - val_acc: 0.0000e+00\n",
      "Epoch 83/100\n",
      "80/80 [==============================] - 0s 267us/step - loss: 0.4035 - acc: 0.0000e+00 - val_loss: 0.2877 - val_acc: 0.0000e+00\n",
      "Epoch 84/100\n",
      "80/80 [==============================] - 0s 279us/step - loss: 0.4035 - acc: 0.0000e+00 - val_loss: 0.2877 - val_acc: 0.0000e+00\n",
      "Epoch 85/100\n",
      "80/80 [==============================] - 0s 293us/step - loss: 0.4035 - acc: 0.0000e+00 - val_loss: 0.2877 - val_acc: 0.0000e+00\n",
      "Epoch 86/100\n",
      "80/80 [==============================] - 0s 278us/step - loss: 0.4035 - acc: 0.0000e+00 - val_loss: 0.2877 - val_acc: 0.0000e+00\n",
      "Epoch 87/100\n",
      "80/80 [==============================] - 0s 293us/step - loss: 0.4035 - acc: 0.0000e+00 - val_loss: 0.2877 - val_acc: 0.0000e+00\n",
      "Epoch 88/100\n",
      "80/80 [==============================] - 0s 303us/step - loss: 0.4035 - acc: 0.0000e+00 - val_loss: 0.2877 - val_acc: 0.0000e+00\n",
      "Epoch 89/100\n",
      "80/80 [==============================] - 0s 283us/step - loss: 0.4035 - acc: 0.0000e+00 - val_loss: 0.2877 - val_acc: 0.0000e+00\n",
      "Epoch 90/100\n",
      "80/80 [==============================] - 0s 280us/step - loss: 0.4035 - acc: 0.0000e+00 - val_loss: 0.2877 - val_acc: 0.0000e+00\n",
      "Epoch 91/100\n",
      "80/80 [==============================] - 0s 264us/step - loss: 0.4035 - acc: 0.0000e+00 - val_loss: 0.2877 - val_acc: 0.0000e+00\n",
      "Epoch 92/100\n",
      "80/80 [==============================] - 0s 308us/step - loss: 0.4035 - acc: 0.0000e+00 - val_loss: 0.2877 - val_acc: 0.0000e+00\n",
      "Epoch 93/100\n",
      "80/80 [==============================] - 0s 275us/step - loss: 0.4035 - acc: 0.0000e+00 - val_loss: 0.2877 - val_acc: 0.0000e+00\n",
      "Epoch 94/100\n",
      "80/80 [==============================] - 0s 284us/step - loss: 0.4035 - acc: 0.0000e+00 - val_loss: 0.2877 - val_acc: 0.0000e+00\n",
      "Epoch 95/100\n",
      "80/80 [==============================] - 0s 284us/step - loss: 0.4035 - acc: 0.0000e+00 - val_loss: 0.2877 - val_acc: 0.0000e+00\n",
      "Epoch 96/100\n",
      "80/80 [==============================] - 0s 309us/step - loss: 0.4035 - acc: 0.0000e+00 - val_loss: 0.2877 - val_acc: 0.0000e+00\n",
      "Epoch 97/100\n",
      "80/80 [==============================] - 0s 310us/step - loss: 0.4035 - acc: 0.0000e+00 - val_loss: 0.2877 - val_acc: 0.0000e+00\n",
      "Epoch 98/100\n",
      "80/80 [==============================] - 0s 286us/step - loss: 0.4035 - acc: 0.0000e+00 - val_loss: 0.2877 - val_acc: 0.0000e+00\n",
      "Epoch 99/100\n",
      "80/80 [==============================] - 0s 292us/step - loss: 0.4035 - acc: 0.0000e+00 - val_loss: 0.2877 - val_acc: 0.0000e+00\n",
      "Epoch 100/100\n",
      "80/80 [==============================] - 0s 299us/step - loss: 0.4035 - acc: 0.0000e+00 - val_loss: 0.2877 - val_acc: 0.0000e+00\n"
     ]
    }
   ],
   "source": [
    "history = model.fit(x_train, y_train, epochs=100, validation_data=(x_test, y_test))"
   ]
  },
  {
   "cell_type": "code",
   "execution_count": 286,
   "metadata": {},
   "outputs": [
    {
     "name": "stdout",
     "output_type": "stream",
     "text": [
      "[[0.]\n",
      " [0.]\n",
      " [0.]\n",
      " [0.]\n",
      " [0.]\n",
      " [0.]\n",
      " [0.]\n",
      " [0.]\n",
      " [0.]\n",
      " [0.]\n",
      " [0.]\n",
      " [0.]\n",
      " [0.]\n",
      " [0.]\n",
      " [0.]\n",
      " [0.]\n",
      " [0.]\n",
      " [0.]\n",
      " [0.]\n",
      " [0.]]\n",
      "[0.25 0.15 1.01 0.21 0.68 0.29 0.58 1.02 0.46 0.52 0.48 0.07 1.   0.31\n",
      " 0.18 0.42 0.19 0.34 0.4  0.59]\n"
     ]
    }
   ],
   "source": [
    "results= model.predict(x_test)\n",
    "print(results)\n",
    "print(y_test)"
   ]
  },
  {
   "cell_type": "code",
   "execution_count": 287,
   "metadata": {},
   "outputs": [
    {
     "data": {
      "text/plain": [
       "<matplotlib.collections.PathCollection at 0x14899cd68>"
      ]
     },
     "execution_count": 287,
     "metadata": {},
     "output_type": "execute_result"
    },
    {
     "data": {
      "image/png": "[encoded data removed]",
      "text/plain": [
       "<Figure size 432x288 with 1 Axes>"
      ]
     },
     "metadata": {
      "needs_background": "light"
     },
     "output_type": "display_data"
    }
   ],
   "source": [
    "plt.scatter(range(20), results, c='r')\n",
    "plt.scatter(range(20), y_test, c='g')"
   ]
  },
  {
   "cell_type": "code",
   "execution_count": 288,
   "metadata": {},
   "outputs": [
    {
     "data": {
      "text/plain": [
       "[<matplotlib.lines.Line2D at 0x145042048>]"
      ]
     },
     "execution_count": 288,
     "metadata": {},
     "output_type": "execute_result"
    },
    {
     "data": {
      "image/png": "[encoded data removed]",
      "text/plain": [
       "<Figure size 432x288 with 1 Axes>"
      ]
     },
     "metadata": {
      "needs_background": "light"
     },
     "output_type": "display_data"
    }
   ],
   "source": [
    "plt.plot(history.history['loss'])"
   ]
  }
 ],
 "metadata": {
  "kernelspec": {
   "display_name": "Python 3",
   "language": "python",
   "name": "python3"
  },
  "language_info": {
   "codemirror_mode": {
    "name": "ipython",
    "version": 3
   },
   "file_extension": ".py",
   "mimetype": "text/x-python",
   "name": "python",
   "nbconvert_exporter": "python",
   "pygments_lexer": "ipython3",
   "version": "3.6.7"
  }
 },
 "nbformat": 4,
 "nbformat_minor": 2
}
