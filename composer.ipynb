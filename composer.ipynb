{
 "cells": [
  {
   "cell_type": "code",
   "execution_count": 240,
   "metadata": {},
   "outputs": [],
   "source": [
    "from music21 import *\n",
    "\n",
    "from keras.models import Sequential\n",
    "from keras.layers import Dense, LSTM, Dropout, Activation\n",
    "from keras.callbacks import ModelCheckpoint, EarlyStopping\n",
    "\n",
    "from sklearn.model_selection import train_test_split\n",
    "\n",
    "import numpy as np\n",
    "import matplotlib.pyplot as plt\n",
    "import random"
   ]
  },
  {
   "cell_type": "code",
   "execution_count": 241,
   "metadata": {},
   "outputs": [
    {
     "name": "stdout",
     "output_type": "stream",
     "text": [
      "len(notes): 215634\n",
      "len(midi_notes): 215634\n"
     ]
    }
   ],
   "source": [
    "# get bach paths\n",
    "paths = corpus.getComposer('bach')\n",
    "\n",
    "# get n pieces\n",
    "#paths = paths[:10]\n",
    "\n",
    "# get all the notes of the first part of each piece\n",
    "notes = []\n",
    "midi_notes = []\n",
    "for path in paths:\n",
    "    score = converter.parse(paths[0])\n",
    "\n",
    "    for part in score.parts:\n",
    "        # get all notes from the part\n",
    "        notes.extend(list(map(lambda note: note, part.recurse().notes)))\n",
    "\n",
    "# midi_notes = list(map(lambda note: note.pitch.midi if note.pitch else None, notes))\n",
    "midi_notes = []\n",
    "for n in notes:\n",
    "    # handle chords -> get hightest ptch\n",
    "    if isinstance(n, chord.Chord):\n",
    "        midi_notes.append(n.pitches[-1].midi)\n",
    "    else:\n",
    "        midi_notes.append(n.pitch.midi)\n",
    "\n",
    "print(f'len(notes): {len(notes)}')\n",
    "print(f'len(midi_notes): {len(midi_notes)}')\n",
    "# print(midi_notes)"
   ]
  },
  {
   "cell_type": "code",
   "execution_count": 242,
   "metadata": {},
   "outputs": [
    {
     "name": "stdout",
     "output_type": "stream",
     "text": [
      "data:\n",
      "[[65, 67, 60, 65, 53, 57, 53], [67, 60, 65, 53, 57, 53, 57], [60, 65, 53, 57, 53, 57, 60]]\n",
      "labels:\n",
      "[57, 60, 65]\n"
     ]
    }
   ],
   "source": [
    "# turn notes in to training sequences of 5\n",
    "# map each sequence to note that follows\n",
    "# [65, 67, 60, 65, 53] -> 57\n",
    "# [67, 60, 65, 53, 57] -> 53\n",
    "\n",
    "# set the length of the sequence that predicts the next note\n",
    "seq_length = 7\n",
    "\n",
    "data = []\n",
    "labels = []\n",
    "for i in range(len(midi_notes)):\n",
    "    seq_end = i + seq_length\n",
    "    \n",
    "    if seq_end >= len(midi_notes): break\n",
    "    \n",
    "#     print(f'i: {i}')\n",
    "#     print(f'seq_end: {seq_end}')\n",
    "    \n",
    "    seq = midi_notes[i:seq_end]        \n",
    "    data.append(seq)\n",
    "    labels.append(midi_notes[seq_end])\n",
    "\n",
    "print(f'data:\\n{data[:3]}')\n",
    "print(f'labels:\\n{labels[:3]}')"
   ]
  },
  {
   "cell_type": "code",
   "execution_count": 243,
   "metadata": {},
   "outputs": [],
   "source": [
    "# get the data in shape\n",
    "data = np.array(data, dtype=float)\n",
    "data = data.reshape(-1, seq_length, 1)\n",
    "\n",
    "labels = np.array(labels, dtype=float)\n",
    "labels = labels.reshape(-1, 1)"
   ]
  },
  {
   "cell_type": "code",
   "execution_count": 244,
   "metadata": {},
   "outputs": [
    {
     "name": "stdout",
     "output_type": "stream",
     "text": [
      "min(data): [41.]\n",
      "max(data): [77.]\n",
      "min(labels): [41.]\n",
      "max(labels): [77.]\n",
      "{seq} -> {labels[i]}\n",
      "[[65.]\n",
      " [67.]\n",
      " [60.]\n",
      " [65.]\n",
      " [53.]\n",
      " [57.]\n",
      " [53.]] -> [57.]\n",
      "{seq} -> {labels_norm[i]}\n",
      "[[0.66666667]\n",
      " [0.72222222]\n",
      " [0.52777778]\n",
      " [0.66666667]\n",
      " [0.33333333]\n",
      " [0.44444444]\n",
      " [0.33333333]] -> [0.44444444]\n"
     ]
    }
   ],
   "source": [
    "# normalize\n",
    "from sklearn.preprocessing import MinMaxScaler\n",
    "\n",
    "# print(f'data.shape: {data.shape}')\n",
    "# print(f'labels.shape: {labels.shape}')\n",
    "\n",
    "data_flat = data.reshape(-1, 1)\n",
    "# print(f'data_flat.shape: {data_flat.shape}')\n",
    "\n",
    "# print(f'data[0]: {data[0]}')\n",
    "# print(f'data_flat[0]: {data[0]}')\n",
    "\n",
    "# scale data\n",
    "scaler_data = MinMaxScaler(feature_range=(0, 1))\n",
    "scaler_data = scaler_data.fit(data_flat)\n",
    "data_norm = scaler_data.transform(data_flat)\n",
    "\n",
    "# scale labels\n",
    "scaler_labels = MinMaxScaler(feature_range=(0, 1))\n",
    "scaler_labels = scaler_labels.fit(labels)\n",
    "labels_norm = scaler_labels.transform(labels)\n",
    "\n",
    "# reshape\n",
    "data_norm = data_norm.reshape(-1, seq_length, 1)\n",
    "labels_norm = labels_norm.reshape(-1, 1)\n",
    "\n",
    "print(f'min(data): {min(data.reshape(-1, 1))}')\n",
    "print(f'max(data): {max(data.reshape(-1, 1))}')\n",
    "\n",
    "print(f'min(labels): {min(labels)}')\n",
    "print(f'max(labels): {max(labels)}')\n",
    "\n",
    "print('{seq} -> {labels[i]}')\n",
    "for i, seq in enumerate(data):\n",
    "    print(f'{seq} -> {labels[i]}')\n",
    "    break\n",
    "    \n",
    "print('{seq} -> {labels_norm[i]}')\n",
    "for i, seq in enumerate(data_norm):\n",
    "    print(f'{seq} -> {labels_norm[i]}')\n",
    "    break\n"
   ]
  },
  {
   "cell_type": "code",
   "execution_count": 245,
   "metadata": {},
   "outputs": [],
   "source": [
    "# get test and train data\n",
    "\n",
    "x_train, x_test, y_train, y_test = train_test_split(data_norm, labels_norm, test_size=0.2, random_state=4)"
   ]
  },
  {
   "cell_type": "code",
   "execution_count": 246,
   "metadata": {},
   "outputs": [],
   "source": [
    "# build the model\n",
    "\n",
    "model = Sequential()\n",
    "# model.add(LSTM((512), batch_input_shape=(None, seq_length, 1), activation='relu', return_sequences=True))\n",
    "# model.add(Dropout(0.2))\n",
    "# model.add(LSTM((256), activation='relu', batch_input_shape=(None, seq_length, 1), return_sequences=True))\n",
    "# model.add(Dropout(0.2))\n",
    "model.add(LSTM((128), activation='relu', batch_input_shape=(None, seq_length, 1), return_sequences=True))\n",
    "model.add(Dropout(0.5))\n",
    "model.add(LSTM((64), activation='relu', return_sequences=True))\n",
    "model.add(Dropout(0.5))\n",
    "# model.add(LSTM((32), activation='relu', return_sequences=True))\n",
    "# model.add(Dropout(0.2))\n",
    "model.add(LSTM((1), activation='relu', return_sequences=False))\n",
    "# model.add(Dense(1, activation='relu'))\n"
   ]
  },
  {
   "cell_type": "code",
   "execution_count": 247,
   "metadata": {},
   "outputs": [
    {
     "name": "stdout",
     "output_type": "stream",
     "text": [
      "(None, 7, 1)\n",
      "(None, 1)\n",
      "_________________________________________________________________\n",
      "Layer (type)                 Output Shape              Param #   \n",
      "=================================================================\n",
      "lstm_43 (LSTM)               (None, 7, 128)            66560     \n",
      "_________________________________________________________________\n",
      "dropout_27 (Dropout)         (None, 7, 128)            0         \n",
      "_________________________________________________________________\n",
      "lstm_44 (LSTM)               (None, 7, 64)             49408     \n",
      "_________________________________________________________________\n",
      "dropout_28 (Dropout)         (None, 7, 64)             0         \n",
      "_________________________________________________________________\n",
      "lstm_45 (LSTM)               (None, 1)                 264       \n",
      "=================================================================\n",
      "Total params: 116,232\n",
      "Trainable params: 116,232\n",
      "Non-trainable params: 0\n",
      "_________________________________________________________________\n",
      "None\n"
     ]
    }
   ],
   "source": [
    "# compile the model\n",
    "\n",
    "model.compile(loss='mse', optimizer='adam')\n",
    "print(model.input_shape)\n",
    "print(model.output_shape)\n",
    "print(model.summary())"
   ]
  },
  {
   "cell_type": "code",
   "execution_count": 248,
   "metadata": {},
   "outputs": [],
   "source": [
    "# checkpoint\n",
    "\n",
    "filepath=\"weights-improvement-{epoch:02d}-{val_loss:.10f}.hdf5\"\n",
    "checkpoint = EarlyStopping(monitor='val_loss', mode='auto', patience=2, verbose=1, restore_best_weights=True )\n",
    "# checkpoint = ModelCheckpoint(filepath, monitor='val_loss', verbose=0, save_best_only=True, save_weights_only=False, mode='auto')\n",
    "\n",
    "callbacks_list = [checkpoint]"
   ]
  },
  {
   "cell_type": "code",
   "execution_count": 249,
   "metadata": {},
   "outputs": [
    {
     "name": "stdout",
     "output_type": "stream",
     "text": [
      "Train on 172501 samples, validate on 43126 samples\n",
      "Epoch 1/1000\n",
      "172501/172501 [==============================] - 74s 429us/step - loss: 0.0174 - val_loss: 0.0082\n",
      "Epoch 2/1000\n",
      "172501/172501 [==============================] - 67s 388us/step - loss: 0.0087 - val_loss: 0.0063\n",
      "Epoch 3/1000\n",
      "172501/172501 [==============================] - 66s 382us/step - loss: 0.0064 - val_loss: 0.0041\n",
      "Epoch 4/1000\n",
      "172501/172501 [==============================] - 65s 379us/step - loss: 0.0047 - val_loss: 0.0039\n",
      "Epoch 5/1000\n",
      "172501/172501 [==============================] - 65s 379us/step - loss: 0.0036 - val_loss: 0.0024\n",
      "Epoch 6/1000\n",
      "172501/172501 [==============================] - 65s 378us/step - loss: 0.0029 - val_loss: 0.0023\n",
      "Epoch 7/1000\n",
      "172501/172501 [==============================] - 66s 381us/step - loss: 0.0024 - val_loss: 0.0014\n",
      "Epoch 8/1000\n",
      "172501/172501 [==============================] - 66s 383us/step - loss: 0.0021 - val_loss: 0.0011\n",
      "Epoch 9/1000\n",
      "172501/172501 [==============================] - 66s 383us/step - loss: 0.0018 - val_loss: 0.0012\n",
      "Epoch 10/1000\n",
      "172501/172501 [==============================] - 66s 383us/step - loss: 0.0017 - val_loss: 0.0012\n",
      "Restoring model weights from the end of the best epoch\n",
      "Epoch 00010: early stopping\n"
     ]
    }
   ],
   "source": [
    "# fit the model\n",
    "\n",
    "history = model.fit(x_train, y_train, epochs=1000, batch_size=64, validation_data=(x_test, y_test), callbacks=callbacks_list)"
   ]
  },
  {
   "cell_type": "code",
   "execution_count": 250,
   "metadata": {},
   "outputs": [
    {
     "name": "stdout",
     "output_type": "stream",
     "text": [
      "43126/43126 [==============================] - 4s 97us/step\n",
      "0.0010966080523394516\n"
     ]
    }
   ],
   "source": [
    "# get the score\n",
    "\n",
    "score = model.evaluate(x_test, y_test, batch_size=64)\n",
    "print(score)"
   ]
  },
  {
   "cell_type": "code",
   "execution_count": 251,
   "metadata": {},
   "outputs": [],
   "source": [
    "# save model\n",
    "model.save('model.h5')"
   ]
  },
  {
   "cell_type": "code",
   "execution_count": 252,
   "metadata": {},
   "outputs": [
    {
     "data": {
      "text/plain": [
       "<matplotlib.legend.Legend at 0x16c1a1668>"
      ]
     },
     "execution_count": 252,
     "metadata": {},
     "output_type": "execute_result"
    },
    {
     "data": {
      "image/png": "[encoded data removed]",
      "text/plain": [
       "<Figure size 432x288 with 1 Axes>"
      ]
     },
     "metadata": {
      "image/png": {
       "height": 250,
       "width": 373
      },
      "needs_background": "light"
     },
     "output_type": "display_data"
    }
   ],
   "source": [
    "# predict y_test\n",
    "\n",
    "results= model.predict(x_test)\n",
    "plt.scatter(range(50), results[:50], c='b')\n",
    "plt.scatter(range(50), y_test[:50], c='g')\n",
    "plt.legend(['results', 'Y-test'], loc='upper right')"
   ]
  },
  {
   "cell_type": "code",
   "execution_count": 253,
   "metadata": {},
   "outputs": [
    {
     "data": {
      "image/png": "[encoded data removed]",
      "text/plain": [
       "<Figure size 432x288 with 1 Axes>"
      ]
     },
     "metadata": {
      "image/png": {
       "height": 263,
       "width": 386
      },
      "needs_background": "light"
     },
     "output_type": "display_data"
    }
   ],
   "source": [
    "plt.plot(history.history['loss'])\n",
    "plt.plot(history.history['val_loss'])\n",
    "plt.xlabel('epoch')\n",
    "plt.legend(['train', 'validation'], loc='upper right')\n",
    "plt.show()"
   ]
  },
  {
   "cell_type": "code",
   "execution_count": 254,
   "metadata": {},
   "outputs": [],
   "source": [
    "# load best weights\n",
    "\n",
    "# model.load_weights('weights-improvement-57-0.0000455168.hdf5')\n",
    "\n",
    "# score = model.evaluate(x_test, y_test, batch_size=64)\n",
    "# print(score)"
   ]
  },
  {
   "cell_type": "code",
   "execution_count": 269,
   "metadata": {},
   "outputs": [
    {
     "name": "stdout",
     "output_type": "stream",
     "text": [
      "min_note: 41\n",
      "max_note: 77\n",
      "seed_seq: [[[0.66666667]\n",
      "  [0.72222222]\n",
      "  [0.66666667]\n",
      "  [0.58333333]\n",
      "  [0.63888889]\n",
      "  [0.66666667]\n",
      "  [0.63888889]]]\n"
     ]
    }
   ],
   "source": [
    "# create original melody\n",
    "\n",
    "max_note = max(midi_notes)\n",
    "min_note = min(midi_notes)\n",
    "print(f'min_note: {min_note}')\n",
    "print(f'max_note: {max_note}')\n",
    "\n",
    "# create a random start sequence (normalize)\n",
    "# seed_seq = np.array([random.randrange(min_note, max_note) for _ in range(seq_length)])\n",
    "# print(f'seed_seq: {seed_seq}')\n",
    "# seed_seq = scaler_data.transform(seed_seq.reshape(-1, 1))\n",
    "# seed_seq = seed_seq.reshape(-1, seq_length, 1)\n",
    "\n",
    "# get a seq_length long sequence from the training data as a seed\n",
    "seed_seq = data[random.randrange(1, len(data) - seq_length)]\n",
    "seed_seq = scaler_data.transform(seed_seq.reshape(-1, 1))\n",
    "seed_seq = seed_seq.reshape(-1, seq_length, 1)\n",
    "print(f'seed_seq: {seed_seq}')\n",
    "\n",
    "# holds sequence for next prediction\n",
    "cur_seq = seed_seq.copy()\n",
    "\n",
    "# melody starts with our random start sequence\n",
    "melody = cur_seq.copy()\n",
    "\n",
    "# melody is 500 notes long\n",
    "melody_length = 500\n",
    "\n",
    "# cur_seq moves along with the end of the melody to determine the next note\n",
    "for _ in range(melody_length):\n",
    "    next_note = model.predict(cur_seq)\n",
    "#     print(f'next_note: {next_note}')\n",
    "    melody = np.append(melody, next_note)\n",
    "    cur_seq = np.append(cur_seq[0][1:], next_note).reshape(1, seq_length, 1)\n",
    "#     print(f'cur_seq: {cur_seq}')\n",
    "\n",
    "# print(f'melody: {melody}')\n",
    "\n"
   ]
  },
  {
   "cell_type": "code",
   "execution_count": 256,
   "metadata": {},
   "outputs": [],
   "source": [
    "def to_midi_file(flat_midi_notes, path):\n",
    "    s = stream.Stream()\n",
    "    \n",
    "    for midi_note in flat_midi_notes:\n",
    "        #print(midi_note)\n",
    "        p = pitch.Pitch()\n",
    "        p.midi = round(midi_note)\n",
    "        n = note.Note()\n",
    "        n.pitch = p\n",
    "        s.append(n)\n",
    "    \n",
    "    fp = s.write('midi', fp=path)\n",
    "    return (s, fp)"
   ]
  },
  {
   "cell_type": "code",
   "execution_count": 271,
   "metadata": {},
   "outputs": [],
   "source": [
    "# turn melody into a midi file\n",
    "\n",
    "# print(melody[0])\n",
    "\n",
    "# denormalize\n",
    "melody_denorm = scaler_labels.inverse_transform(melody.reshape(-1, 1)).reshape(-1)\n",
    "# print(melody_denorm)\n",
    "# print(melody_denorm[0])\n",
    "\n",
    "# write source melody to file\n",
    "s, fp = to_midi_file(midi_notes[:500], 'source.midi')\n",
    "\n",
    "# write new melody to file\n",
    "s, fp = to_midi_file(melody_denorm, 'machine_bach.midi')\n",
    "# s.show('text')\n"
   ]
  }
 ],
 "metadata": {
  "kernelspec": {
   "display_name": "Python 3",
   "language": "python",
   "name": "python3"
  },
  "language_info": {
   "codemirror_mode": {
    "name": "ipython",
    "version": 3
   },
   "file_extension": ".py",
   "mimetype": "text/x-python",
   "name": "python",
   "nbconvert_exporter": "python",
   "pygments_lexer": "ipython3",
   "version": "3.6.7"
  }
 },
 "nbformat": 4,
 "nbformat_minor": 2
}
