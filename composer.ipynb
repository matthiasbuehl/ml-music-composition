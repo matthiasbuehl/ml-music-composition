{
 "cells": [
  {
   "cell_type": "markdown",
   "metadata": {},
   "source": [
    "Matthias Buehl\n",
    "Jan 19, 2019\n",
    "\n",
    "## I. Definition"
   ]
  },
  {
   "cell_type": "markdown",
   "metadata": {},
   "source": [
    "### Project Overview \n",
    "The purpose of this project is to create a machine learning algirithm that produces a melody that is based on existing melodies.  More specifically, the algorithm with predict a new note from a sequence of preceeding notes.  This single note prediction will be used prepeatedly to construct a longer sequence of notes or melody.\n"
   ]
  },
  {
   "cell_type": "markdown",
   "metadata": {},
   "source": [
    "### Problem Statement \n",
    "Composing music is exclusively a human activity. Composers are highly trained individuals and the craft takes decades to master. Nevertheless, composers tend to be strongly inspired by past works. This fact suggest the possibility that an algorithm could learn from existing works and could create an original piece."
   ]
  },
  {
   "cell_type": "markdown",
   "metadata": {},
   "source": [
    "### Metrics \n",
    "I will be predicting a note based on a preceeding sequence of notes.  Since this is a regression problem, I will be using the mean squared error as a metric."
   ]
  },
  {
   "cell_type": "markdown",
   "metadata": {},
   "source": [
    "## II. Analysis "
   ]
  },
  {
   "cell_type": "markdown",
   "metadata": {},
   "source": [
    "### Data Exporation \n",
    "The training data is taken from the music21 (http://web.mit.edu/music21/) python library.  It contains a corpus of thousands of classical pieces.  \n",
    "  \n",
    "For the purpose of this project, I used 2 pieces by bach.  I only chose the first part (instrument) of each piece if the piece had multiple parts (instruments).  I took out all the timing information of the melody and retained only pitch information.  Consequently the source material consists of a sequence of quarter notes.  \n",
    "  \n",
    "I made an accidental discovery. By repeating the melody of each piece n times, my training and validation losses would decrease substantially more than if I just used each melody once.  Therefore I repeated each of the melodies 30 times. "
   ]
  },
  {
   "cell_type": "code",
   "execution_count": 1,
   "metadata": {},
   "outputs": [
    {
     "name": "stderr",
     "output_type": "stream",
     "text": [
      "Using TensorFlow backend.\n"
     ]
    }
   ],
   "source": [
    "from music21 import *\n",
    "\n",
    "from keras.models import Sequential\n",
    "from keras.layers import Dense, LSTM, Dropout, Activation\n",
    "from keras.callbacks import ModelCheckpoint, EarlyStopping\n",
    "\n",
    "from sklearn.model_selection import train_test_split\n",
    "from sklearn.preprocessing import MinMaxScaler\n",
    "\n",
    "import pandas as pd\n",
    "import numpy as np\n",
    "import matplotlib.pyplot as plt\n",
    "import random\n",
    "import decimal\n",
    "\n",
    "from helpers import *"
   ]
  },
  {
   "cell_type": "code",
   "execution_count": 2,
   "metadata": {},
   "outputs": [
    {
     "name": "stdout",
     "output_type": "stream",
     "text": [
      "len(notes): 5970\n",
      "len(midi_notes): 5970\n",
      "[65, 67, 60, 65, 53, 57, 53, 57, 60, 65, 70, 69, 67, 65, 67, 69, 69, 65, 67, 69, 70, 72, 70, 69, 67, 67, 72, 72, 71, 69, 71, 72, 65, 65, 70, 69, 67, 65, 60, 65, 60, 60, 57, 53, 60, 60, 60, 57, 65, 67]\n"
     ]
    }
   ],
   "source": [
    "# get bach paths\n",
    "paths = corpus.getComposer('bach')\n",
    "#paths = corpus.getComposer('mozart')\n",
    "\n",
    "# get n pieces\n",
    "#paths = paths[:10]\n",
    "\n",
    "# get all the notes of the first part of each piece\n",
    "notes = []\n",
    "midi_notes = []\n",
    "# use 2 pieces\n",
    "paths = paths[:2]\n",
    "for path in paths:\n",
    "    # repeat each piece 30 times\n",
    "    for _ in range(30):\n",
    "        compStream = converter.parse(path)\n",
    "        # use only the first part (instrument) of the piece\n",
    "        notes.extend(list(compStream.parts[0].recurse().notes))\n",
    "\n",
    "# convert to midi notes\n",
    "midi_notes = []\n",
    "for n in notes:\n",
    "    # handle chords -> get hightest pitch\n",
    "    if isinstance(n, chord.Chord):\n",
    "        midi_notes.append(n.pitches[-1].midi)\n",
    "    else:\n",
    "        midi_notes.append(n.pitch.midi)\n",
    "\n",
    "print(f'len(notes): {len(notes)}')\n",
    "print(f'len(midi_notes): {len(midi_notes)}')\n",
    "print(midi_notes[:50])\n",
    "\n",
    "# save a copy  of the original midi notes\n",
    "midi_notes_org = midi_notes[:]\n",
    "\n",
    "# write source melody to file\n",
    "s, fp = to_midi_file(midi_notes_org[:500], 'source.midi')"
   ]
  },
  {
   "cell_type": "code",
   "execution_count": 3,
   "metadata": {},
   "outputs": [
    {
     "name": "stdout",
     "output_type": "stream",
     "text": [
      "data:\n",
      "[[0.5       ]\n",
      " [0.58333333]\n",
      " [0.29166667]\n",
      " [0.5       ]]\n",
      "labels:\n",
      "[0.]\n"
     ]
    },
    {
     "name": "stderr",
     "output_type": "stream",
     "text": [
      "/Users/mbuehl/.local/share/virtualenvs/ml-music-composition-7FO5GL04/lib/python3.6/site-packages/sklearn/utils/validation.py:595: DataConversionWarning: Data with input dtype int64 was converted to float64 by MinMaxScaler.\n",
      "  warnings.warn(msg, DataConversionWarning)\n"
     ]
    }
   ],
   "source": [
    "# turn notes in to training sequences of n e.g. 4\n",
    "# map each sequence to note that follows\n",
    "# [65, 67, 60, 65] -> 53\n",
    "# [67, 60, 65, 53] -> 57\n",
    "\n",
    "# set the length of the sequence that predicts the next note\n",
    "seq_length = 4\n",
    "\n",
    "# scale data\n",
    "midi_notes = np.array(midi_notes_org).reshape(-1, 1)\n",
    "scaler = MinMaxScaler(feature_range=(0, 1))\n",
    "midi_notes = scaler.fit_transform(midi_notes)\n",
    "# print(f'scaled midi_notes:\\n{midi_notes}')\n",
    "\n",
    "data = []\n",
    "labels = []\n",
    "for i in range(len(midi_notes)):\n",
    "    seq_end = i + seq_length\n",
    "    \n",
    "    if seq_end >= len(midi_notes): break\n",
    "    \n",
    "    seq = midi_notes[i:seq_end]        \n",
    "    data.append(seq)\n",
    "    labels.append(midi_notes[seq_end])\n",
    "\n",
    "print(f'data:\\n{data[0]}')\n",
    "print(f'labels:\\n{labels[0]}')"
   ]
  },
  {
   "cell_type": "code",
   "execution_count": 4,
   "metadata": {},
   "outputs": [],
   "source": [
    "# get the data in shape\n",
    "data = np.array(data, dtype=float)\n",
    "data = data.reshape(-1, seq_length, 1)\n",
    "\n",
    "labels = np.array(labels, dtype=float)\n",
    "labels = labels.reshape(-1, 1)\n",
    "\n",
    "# print(f'data.shape: {data.shape}')\n",
    "# print(f'labels.shape: {labels.shape}')\n",
    "\n",
    "# print(f'min(data): {min(data.reshape(-1, 1))}')\n",
    "# print(f'max(data): {max(data.reshape(-1, 1))}')\n",
    "\n",
    "# print(f'min(labels): {min(labels)}')\n",
    "# print(f'max(labels): {max(labels)}')\n",
    "\n",
    "# print('{seq} -> {labels[i]}')\n",
    "# for i, seq in enumerate(data):\n",
    "#     print(f'{seq} -> {labels[i]}')\n",
    "    \n",
    "#     if i == 3: break\n"
   ]
  },
  {
   "cell_type": "markdown",
   "metadata": {},
   "source": [
    "### Exploratory Visualization  "
   ]
  },
  {
   "cell_type": "code",
   "execution_count": 5,
   "metadata": {},
   "outputs": [
    {
     "name": "stdout",
     "output_type": "stream",
     "text": [
      "Shape of training data: (5966, 4, 1)\n",
      "Shape of labels: (5966, 1)\n",
      "Pandas Stats:\n"
     ]
    },
    {
     "data": {
      "text/html": [
       "<div>\n",
       "<style scoped>\n",
       "    .dataframe tbody tr th:only-of-type {\n",
       "        vertical-align: middle;\n",
       "    }\n",
       "\n",
       "    .dataframe tbody tr th {\n",
       "        vertical-align: top;\n",
       "    }\n",
       "\n",
       "    .dataframe thead th {\n",
       "        text-align: right;\n",
       "    }\n",
       "</style>\n",
       "<table border=\"1\" class=\"dataframe\">\n",
       "  <thead>\n",
       "    <tr style=\"text-align: right;\">\n",
       "      <th></th>\n",
       "      <th>0</th>\n",
       "    </tr>\n",
       "  </thead>\n",
       "  <tbody>\n",
       "    <tr>\n",
       "      <th>count</th>\n",
       "      <td>5970.000000</td>\n",
       "    </tr>\n",
       "    <tr>\n",
       "      <th>mean</th>\n",
       "      <td>66.482412</td>\n",
       "    </tr>\n",
       "    <tr>\n",
       "      <th>std</th>\n",
       "      <td>5.653635</td>\n",
       "    </tr>\n",
       "    <tr>\n",
       "      <th>min</th>\n",
       "      <td>53.000000</td>\n",
       "    </tr>\n",
       "    <tr>\n",
       "      <th>25%</th>\n",
       "      <td>60.000000</td>\n",
       "    </tr>\n",
       "    <tr>\n",
       "      <th>50%</th>\n",
       "      <td>67.000000</td>\n",
       "    </tr>\n",
       "    <tr>\n",
       "      <th>75%</th>\n",
       "      <td>70.000000</td>\n",
       "    </tr>\n",
       "    <tr>\n",
       "      <th>max</th>\n",
       "      <td>77.000000</td>\n",
       "    </tr>\n",
       "  </tbody>\n",
       "</table>\n",
       "</div>"
      ],
      "text/plain": [
       "                 0\n",
       "count  5970.000000\n",
       "mean     66.482412\n",
       "std       5.653635\n",
       "min      53.000000\n",
       "25%      60.000000\n",
       "50%      67.000000\n",
       "75%      70.000000\n",
       "max      77.000000"
      ]
     },
     "execution_count": 5,
     "metadata": {},
     "output_type": "execute_result"
    }
   ],
   "source": [
    "print(f'Shape of training data: {data.shape}')\n",
    "print(f'Shape of labels: {labels.shape}')\n",
    "print('Pandas Stats:')\n",
    "pd.DataFrame(midi_notes_org).describe()"
   ]
  },
  {
   "cell_type": "markdown",
   "metadata": {},
   "source": [
    "### Algorithms and Techniques \n",
    "After some internet research, I concluded that an LSTM would be a good candidate for predicting a singular output from sequential input.  \n",
    "https://machinelearningmastery.com/sequence-classification-lstm-recurrent-neural-networks-python-keras/  \n",
    "  \n",
    "Another candidate, the RNN, was disqualified since it suffers from the vanishing gradient prolbem.  \n",
    "  \n",
    "Alternatively, I could have used multiclass classification with each possible pitch representing a class."
   ]
  },
  {
   "cell_type": "markdown",
   "metadata": {},
   "source": [
    "### Benchmark \n",
    "A clear benchmark for this project is tricky as the quality of a musical composition is hightly subjective.  Based on several setbacks during this project my banchmarks are as follows: \n",
    " \n",
    "1. The resulting melody consists of more than 5 different pitches. \n",
    "2. The resulting melody is not identical to the traning melody. \n",
    "3. The resulting melody does not appear completely random."
   ]
  },
  {
   "cell_type": "markdown",
   "metadata": {},
   "source": [
    "## III. Methodology"
   ]
  },
  {
   "cell_type": "markdown",
   "metadata": {},
   "source": [
    "### Data Preporcessing \n",
    "As stated under section exploratory visualization, the traning data has shape (5966, 4, 1) and the labels have shape (5966, 1).  \n",
    "The data is normalized between 0 and 1 via a Min Max Scaler."
   ]
  },
  {
   "cell_type": "code",
   "execution_count": 6,
   "metadata": {},
   "outputs": [],
   "source": [
    "# get test and train data\n",
    "\n",
    "x_train, x_test, y_train, y_test = train_test_split(data, labels, test_size=0.2, random_state=4)"
   ]
  },
  {
   "cell_type": "markdown",
   "metadata": {},
   "source": []
  },
  {
   "cell_type": "code",
   "execution_count": 7,
   "metadata": {},
   "outputs": [],
   "source": [
    "# build the model\n",
    "\n",
    "model = Sequential()\n",
    "model.add(LSTM((128), input_shape=(seq_length, 1), return_sequences=False))\n",
    "model.add(Dense(1))\n"
   ]
  },
  {
   "cell_type": "code",
   "execution_count": 8,
   "metadata": {
    "scrolled": false
   },
   "outputs": [],
   "source": [
    "# compile the model\n",
    "\n",
    "model.compile(loss='mse', optimizer='adam')\n",
    "# print(model.input_shape)\n",
    "# print(model.output_shape)\n",
    "# print(model.summary())"
   ]
  },
  {
   "cell_type": "markdown",
   "metadata": {},
   "source": [
    "### Implementation \n",
    "The model consists of a simle LSTM network with one LSTM layer with 128 outputs and one Dense layer with 1 output. The model predicts a note by evaluating the preceding n notes e.g.  e.g. [C, D, E, F] -> G. \n",
    "\n",
    "I use this single note prediction repeatedly to generate a longer melody be convolving forward by one note.\n",
    "\n",
    "The 'composition' is kicked off by a sequence of notes that I select by hand.\n",
    "\n",
    "Hand selected sequence: [C, D, E, F]\n",
    "\n",
    "Predicted note: G\n",
    "\n",
    "Next sequence (drop first note and append predicted [D, E, F, G]\n",
    "\n",
    "Predicted note: C (may be)\n",
    "\n",
    "Next sequence: [E, F, G, C]\n",
    "\n",
    "and so on\n"
   ]
  },
  {
   "cell_type": "code",
   "execution_count": 9,
   "metadata": {},
   "outputs": [
    {
     "name": "stdout",
     "output_type": "stream",
     "text": [
      "Model Input Shape: (None, 4, 1)\n",
      "Model Output Shape: (None, 1)\n",
      "Model Summary:\n",
      "_________________________________________________________________\n",
      "Layer (type)                 Output Shape              Param #   \n",
      "=================================================================\n",
      "lstm_1 (LSTM)                (None, 128)               66560     \n",
      "_________________________________________________________________\n",
      "dense_1 (Dense)              (None, 1)                 129       \n",
      "=================================================================\n",
      "Total params: 66,689\n",
      "Trainable params: 66,689\n",
      "Non-trainable params: 0\n",
      "_________________________________________________________________\n",
      "None\n"
     ]
    }
   ],
   "source": [
    "print(f'Model Input Shape: {model.input_shape}')\n",
    "print(f'Model Output Shape: {model.output_shape}')\n",
    "print(f'Model Summary:')\n",
    "print(model.summary())"
   ]
  },
  {
   "cell_type": "markdown",
   "metadata": {},
   "source": [
    "### Refinements \n",
    "I tried quite a few variations of LSTM, Dropout, and Dense layers.  I was hoping that adding more LSTM layers would decrease the mse more than just a single LSTM layer.  I realized through trial and error that one LSTM layer was just as effective than muliple and took much less time to train. \n",
    " \n",
    "I also experimented with different activation layers including relu, tanh, and sigmoind.  I concluded that the default activation layers were most effective:  \n",
    "LSTM -> activation='tanh', recurrent_activation='hard_sigmoid' \n",
    "Dense -> activation=None"
   ]
  },
  {
   "cell_type": "code",
   "execution_count": 10,
   "metadata": {},
   "outputs": [],
   "source": [
    "# checkpoint\n",
    "# use early stopping\n",
    "\n",
    "filepath=\"weights-improvement-{epoch:02d}-{val_loss:.10f}.hdf5\"\n",
    "checkpoint = EarlyStopping(monitor='val_loss', mode='auto', patience=10, verbose=1, restore_best_weights=True )\n",
    "# checkpoint = ModelCheckpoint(filepath, monitor='val_loss', verbose=0, save_best_only=True, save_weights_only=False, mode='auto')\n",
    "\n",
    "callbacks_list = [checkpoint]"
   ]
  },
  {
   "cell_type": "code",
   "execution_count": 11,
   "metadata": {
    "scrolled": true
   },
   "outputs": [
    {
     "name": "stdout",
     "output_type": "stream",
     "text": [
      "Restoring model weights from the end of the best epoch\n",
      "Epoch 00180: early stopping\n"
     ]
    }
   ],
   "source": [
    "# fit the model\n",
    "\n",
    "history = model.fit(x_train, y_train, verbose=0, epochs=1000, batch_size=64, validation_data=(x_test, y_test), callbacks=callbacks_list)"
   ]
  },
  {
   "cell_type": "markdown",
   "metadata": {},
   "source": [
    "## IV. Results"
   ]
  },
  {
   "cell_type": "markdown",
   "metadata": {},
   "source": [
    "### Model Evaluation and Validation\n",
    "The scope of evaluation and metric via mse and the loss curves pertains only to the prediction of the note that follows the previous n notes e.g. [C, D, E, F] -> G.\n",
    "\n",
    "I use the prediction of a single note repeatedly to construct a longer melody.  I am currently not evaluating the resulting meody via hard metrics. \n",
    "\n",
    "Below are charts to evaluate the model."
   ]
  },
  {
   "cell_type": "code",
   "execution_count": 12,
   "metadata": {
    "scrolled": true
   },
   "outputs": [
    {
     "name": "stdout",
     "output_type": "stream",
     "text": [
      "1194/1194 [==============================] - 0s 24us/step\n",
      "Score (mse): 0.006821518428498876\n"
     ]
    }
   ],
   "source": [
    "# get the score\n",
    "\n",
    "score = model.evaluate(x_test, y_test, batch_size=64)\n",
    "print(f'Score (mse): {score}')"
   ]
  },
  {
   "cell_type": "code",
   "execution_count": 13,
   "metadata": {},
   "outputs": [],
   "source": [
    "# save model\n",
    "#model.save('model.h5')"
   ]
  },
  {
   "cell_type": "code",
   "execution_count": 14,
   "metadata": {},
   "outputs": [
    {
     "data": {
      "text/plain": [
       "<matplotlib.legend.Legend at 0x10a9ff518>"
      ]
     },
     "execution_count": 14,
     "metadata": {},
     "output_type": "execute_result"
    },
    {
     "data": {
      "image/png": "[encoded data removed]",
      "text/plain": [
       "<Figure size 432x288 with 1 Axes>"
      ]
     },
     "metadata": {
      "image/png": {
       "height": 263,
       "width": 380
      },
      "needs_background": "light"
     },
     "output_type": "display_data"
    }
   ],
   "source": [
    "# predict y_train\n",
    "n=20\n",
    "\n",
    "results= model.predict(x_train)\n",
    "plt.title('Predicted y-train vs actual y-train')\n",
    "plt.scatter(range(n), results[:n], c='b')\n",
    "plt.scatter(range(n), y_train[:n], c='g')\n",
    "plt.legend(['results', 'y-train'], loc='upper right')"
   ]
  },
  {
   "cell_type": "code",
   "execution_count": 15,
   "metadata": {},
   "outputs": [
    {
     "data": {
      "text/plain": [
       "<matplotlib.legend.Legend at 0x10aa53320>"
      ]
     },
     "execution_count": 15,
     "metadata": {},
     "output_type": "execute_result"
    },
    {
     "data": {
      "image/png": "[encoded data removed]",
      "text/plain": [
       "<Figure size 432x288 with 1 Axes>"
      ]
     },
     "metadata": {
      "image/png": {
       "height": 263,
       "width": 380
      },
      "needs_background": "light"
     },
     "output_type": "display_data"
    }
   ],
   "source": [
    "# predict y_test\n",
    "\n",
    "results= model.predict(x_test)\n",
    "plt.title('Predicted y-test vs actual y-test')\n",
    "plt.scatter(range(n), results[:n], c='b')\n",
    "plt.scatter(range(n), y_test[:n], c='g')\n",
    "plt.legend(['results', 'Y-test'], loc='upper right')"
   ]
  },
  {
   "cell_type": "code",
   "execution_count": 16,
   "metadata": {},
   "outputs": [
    {
     "data": {
      "image/png": "[encoded data removed]",
      "text/plain": [
       "<Figure size 432x288 with 1 Axes>"
      ]
     },
     "metadata": {
      "image/png": {
       "height": 277,
       "width": 380
      },
      "needs_background": "light"
     },
     "output_type": "display_data"
    }
   ],
   "source": [
    "plt.title('Model Complexity Graph')\n",
    "plt.plot(history.history['loss'])\n",
    "plt.plot(history.history['val_loss'])\n",
    "plt.xlabel('epoch')\n",
    "plt.legend(['train', 'validation'], loc='upper right')\n",
    "plt.show()"
   ]
  },
  {
   "cell_type": "code",
   "execution_count": 17,
   "metadata": {},
   "outputs": [],
   "source": [
    "# load best weights\n",
    "\n",
    "# model.load_weights('weights-improvement-57-0.0000455168.hdf5')\n",
    "\n",
    "# score = model.evaluate(x_test, y_test, batch_size=64)\n",
    "# print(score)"
   ]
  },
  {
   "cell_type": "code",
   "execution_count": 33,
   "metadata": {},
   "outputs": [
    {
     "name": "stdout",
     "output_type": "stream",
     "text": [
      "min_note: [0.]\n",
      "max_note: [1.]\n",
      "start_index: 1262\n",
      "cur_seq.shape: (1, 4, 1)\n",
      "melody.shape: (1, 4, 1)\n"
     ]
    }
   ],
   "source": [
    "# create original melody\n",
    "\n",
    "max_note = max(midi_notes)\n",
    "min_note = min(midi_notes)\n",
    "print(f'min_note: {min_note}')\n",
    "print(f'max_note: {max_note}')\n",
    "\n",
    "# get sequence to start things off\n",
    "start_index = random.randrange(0, midi_notes.shape[0] - seq_length)\n",
    "print(f'start_index: {start_index}')\n",
    "seed_seq = midi_notes[start_index:start_index + seq_length]\n",
    "\n",
    "# set start sequence manually\n",
    "seed_seq = scaler.transform(np.array([60,67,65,64]).reshape(seq_length, 1))\n",
    "#seed_seq = scaler.transform(np.array(midi_notes_org[:seq_length]).reshape(seq_length, 1))\n",
    "\n",
    "# holds sequence for next prediction\n",
    "cur_seq = seed_seq.copy()\n",
    "cur_seq = cur_seq.reshape(1, seq_length, 1)\n",
    "print(f'cur_seq.shape: {cur_seq.shape}')\n",
    "\n",
    "# melody starts with our start sequence seed_seq\n",
    "melody = cur_seq.copy()\n",
    "print(f'melody.shape: {melody.shape}')\n",
    "\n",
    "# melody is 500 notes long\n",
    "melody_length = 500\n",
    "\n",
    "# cur_seq moves along with the end of the melody to determine the next note\n",
    "for _ in range(melody_length):\n",
    "#     print(f'cur_seq: {cur_seq}')\n",
    "    next_note = model.predict(cur_seq)\n",
    "#     print(f'next_note: {next_note}')\n",
    "    melody = np.append(melody, next_note)\n",
    "#     print(f'melody: {melody}')\n",
    "    cur_seq = np.append(cur_seq[0][1:], next_note).reshape(1, seq_length, 1)\n",
    "    \n",
    "\n",
    "#print(f'melody: {melody}')\n",
    "\n"
   ]
  },
  {
   "cell_type": "code",
   "execution_count": 37,
   "metadata": {},
   "outputs": [],
   "source": [
    "# turn melody into a midi file\n",
    "\n",
    "# denormalize\n",
    "melody_denorm = scaler.inverse_transform(melody.reshape(-1, 1)).flatten()\n",
    "\n",
    "# write new melody to file\n",
    "s, fp = to_midi_file(melody_denorm, 'machine_bach.midi')\n"
   ]
  },
  {
   "cell_type": "markdown",
   "metadata": {},
   "source": [
    "### Justification\n",
    "The final melody meets the criteria I established above: \n",
    "1. The resulting melody consists of more than 5 different pitches. \n",
    "2. The resulting melody is not identical to the traning melody. \n",
    "3. The resulting melody does not appear completely random.\n",
    "\n",
    "Below is a visual comparison between the first 50 notes of the composed melody compared to the first 50 notes of the training melody.  The corresponding midi files are in the repo: \n",
    " \n",
    "training melody: source.midi \n",
    "composed melody: machine_bach.midi"
   ]
  },
  {
   "cell_type": "markdown",
   "metadata": {},
   "source": [
    "## V. Conclusion"
   ]
  },
  {
   "cell_type": "markdown",
   "metadata": {},
   "source": [
    "### Free-Form Visualization\n",
    "Below is a visual comparison between the first 50 notes of the composed melody compared to the first 50 notes of the training melody. The corresponding midi files are in the repo:\n",
    "\n",
    "training melody: source.midi composed melody: machine_bach.midi"
   ]
  },
  {
   "cell_type": "code",
   "execution_count": 42,
   "metadata": {},
   "outputs": [
    {
     "name": "stdout",
     "output_type": "stream",
     "text": [
      "new melody note names (first 50): ['C4', 'G4', 'F4', 'E4', 'F4', 'F4', 'G3', 'E-4', 'E4', 'F4', 'F4', 'D4', 'C4', 'C4', 'B-2', 'A2', 'G2', 'B-2', 'C#4', 'C#5', 'C5', 'A4', 'A4', 'C5', 'C5', 'B-4', 'A4', 'B4', 'B4', 'G4', 'F#4', 'F4', 'F#4', 'G#4', 'D4', 'C4', 'G#3', 'D4', 'A3', 'F3', 'A3', 'F2', 'E4', 'C#4', 'G3', 'B-3', 'C#4', 'E3', 'D4', 'D4']\n",
      "\n",
      "\n",
      "train melody note names (first 50): ['F4', 'G4', 'C4', 'F4', 'F3', 'A3', 'F3', 'A3', 'C4', 'F4', 'B-4', 'A4', 'G4', 'F4', 'G4', 'A4', 'A4', 'F4', 'G4', 'A4', 'B-4', 'C5', 'B-4', 'A4', 'G4', 'G4', 'C5', 'C5', 'B4', 'A4', 'B4', 'C5', 'F4', 'F4', 'B-4', 'A4', 'G4', 'F4', 'C4', 'F4', 'C4', 'C4', 'A3', 'F3', 'C4', 'C4', 'C4', 'A3', 'F4', 'G4']\n"
     ]
    }
   ],
   "source": [
    "new_melody_note_names = [n.pitch.nameWithOctave for n in s.notes]\n",
    "print(f'new melody note names (first 50): {new_melody_note_names[:50]}')\n",
    "print('\\n')\n",
    "train_melody_note_names = [n.pitch.nameWithOctave for n in notes]\n",
    "print(f'train melody note names (first 50): {train_melody_note_names[:50]}')"
   ]
  },
  {
   "cell_type": "markdown",
   "metadata": {},
   "source": [
    "### Reflection\n"
   ]
  }
 ],
 "metadata": {
  "kernelspec": {
   "display_name": "Python 3",
   "language": "python",
   "name": "python3"
  },
  "language_info": {
   "codemirror_mode": {
    "name": "ipython",
    "version": 3
   },
   "file_extension": ".py",
   "mimetype": "text/x-python",
   "name": "python",
   "nbconvert_exporter": "python",
   "pygments_lexer": "ipython3",
   "version": "3.6.7"
  }
 },
 "nbformat": 4,
 "nbformat_minor": 2
}
